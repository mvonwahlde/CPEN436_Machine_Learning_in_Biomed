{
 "cells": [
  {
   "cell_type": "markdown",
   "id": "c4ffb0df",
   "metadata": {},
   "source": [
    "## Goals\n",
    "- implement the model $f_{w,b}$ for linear regression with one variable\n",
    "- implement and explore the cost function for linear regression with one variable."
   ]
  },
  {
   "cell_type": "markdown",
   "id": "37af502f",
   "metadata": {},
   "source": [
    "# 1. Model Representation"
   ]
  },
  {
   "cell_type": "markdown",
   "id": "f2fb63e4",
   "metadata": {},
   "source": [
    "## Notation\n",
    "Here is a summary of some of the notation you will encounter.  \n",
    "\n",
    "|General Notation| Description| Python (if applicable) |\n",
    "| ------------| ------------------------------------------------------------| ---|\n",
    "| $a$ | scalar, non bold                                                      ||\n",
    "| $\\mathbf{a}$ | vector, bold                                                      ||\n",
    "| **Regression** |         |    |     |\n",
    "|  $\\mathbf{x}$ | Training Example feature values  | `x_train` |   \n",
    "|  $\\mathbf{y}$  | Training Example  targets  | `y_train` \n",
    "|  $x^{(i)}$, $y^{(i)}$ | $i_{th}$Training Example | `x_i`, `y_i`|\n",
    "| m | Number of training examples | `m`|\n",
    "|  $w$  |  parameter: weight                                 | `w`    |\n",
    "|  $b$           |  parameter: bias                                           | `b`    |     \n",
    "| $f_{w,b}(x^{(i)})$ | The result of the model evaluation at $x^{(i)}$ parameterized by $w,b$: $f_{w,b}(x^{(i)}) = wx^{(i)}+b$  | `f_wb` | \n"
   ]
  },
  {
   "cell_type": "markdown",
   "id": "12035203",
   "metadata": {},
   "source": [
    "## Tools\n",
    "In this assignment you will make use of: \n",
    "- NumPy, a popular library for scientific computing\n",
    "- Matplotlib, a popular library for plotting data"
   ]
  },
  {
   "cell_type": "code",
   "execution_count": 5,
   "id": "a9132d92",
   "metadata": {},
   "outputs": [],
   "source": [
    "import numpy as np\n",
    "import matplotlib.pyplot as plt"
   ]
  },
  {
   "cell_type": "markdown",
   "id": "287bcb2b",
   "metadata": {},
   "source": [
    "# Problem Statement\n",
    "\n",
    "As in the lecture, you will use the motivating example of diabetes progression prediction. This assignment will use a simple data set with only two data points shown below. These two points will constitute our *data or training set*. \n",
    "\n",
    "| BMI                      | Diabetes progression |\n",
    "| -------------------------| ------------------------ |\n",
    "| 32.1                   | 151                      |\n",
    "| 21.6                   | 75                      |\n",
    "\n",
    "You would like to fit a linear regression model through these two points, so you can then predict diabetes progression for other patients - say, a patient with BMI = 30.5.\n"
   ]
  },
  {
   "cell_type": "markdown",
   "id": "cf910dc0",
   "metadata": {},
   "source": [
    "Please run the following code cell to create your `x_train` and `y_train` variables. The data is stored in one-dimensional NumPy arrays."
   ]
  },
  {
   "cell_type": "code",
   "execution_count": 6,
   "id": "dc8e0482",
   "metadata": {},
   "outputs": [
    {
     "name": "stdout",
     "output_type": "stream",
     "text": [
      "x_train = [32.1 21.6]\n",
      "y_train = [151  75]\n"
     ]
    }
   ],
   "source": [
    "# x_train is the input variable (BMI) \n",
    "# y_train is the target (diabetes progression level)\n",
    "x_train = np.array([32.1, 21.6])\n",
    "y_train = np.array([151, 75])\n",
    "print(f\"x_train = {x_train}\")\n",
    "print(f\"y_train = {y_train}\")"
   ]
  },
  {
   "cell_type": "markdown",
   "id": "41dec354",
   "metadata": {},
   "source": [
    ">**Note**: The course will frequently utilize the python 'f-string' output formatting described [here](https://docs.python.org/3/tutorial/inputoutput.html) when printing. The content between the curly braces is evaluated when producing the output."
   ]
  },
  {
   "cell_type": "markdown",
   "id": "bd7edb1f",
   "metadata": {},
   "source": [
    "### Number of training examples `m`\n",
    "You will use `m` to denote the number of training examples. Numpy arrays have a `.shape` parameter. `x_train.shape` returns a python tuple with an entry for each dimension. `x_train.shape[0]` is the length of the array and number of examples as shown below."
   ]
  },
  {
   "cell_type": "code",
   "execution_count": 7,
   "id": "bdd317da",
   "metadata": {},
   "outputs": [
    {
     "name": "stdout",
     "output_type": "stream",
     "text": [
      "x_train.shape: (2,)\n",
      "Number of training examples is: 2\n"
     ]
    }
   ],
   "source": [
    "# m is the number of training examples\n",
    "print(f\"x_train.shape: {x_train.shape}\")\n",
    "m = x_train.shape[0]\n",
    "print(f\"Number of training examples is: {m}\")"
   ]
  },
  {
   "cell_type": "markdown",
   "id": "4035d53e",
   "metadata": {},
   "source": [
    "One can also use the Python `len()` function as shown below."
   ]
  },
  {
   "cell_type": "code",
   "execution_count": 8,
   "id": "907288d8",
   "metadata": {},
   "outputs": [
    {
     "name": "stdout",
     "output_type": "stream",
     "text": [
      "Number of training examples is: 2\n"
     ]
    }
   ],
   "source": [
    "# m is the number of training examples\n",
    "m = len(x_train)\n",
    "\n",
    "print(f\"Number of training examples is: {m}\")"
   ]
  },
  {
   "cell_type": "markdown",
   "id": "a7a75991",
   "metadata": {},
   "source": [
    "### Training example `x_i, y_i`\n",
    "\n",
    "You will use (x$^{(i)}$, y$^{(i)}$) to denote the $i^{th}$ training example. Since Python is zero indexed, (x$^{(0)}$, y$^{(0)}$) is (32.1, 151) and (x$^{(1)}$, y$^{(1)}$) is (21.6, 75). \n",
    "\n",
    "To access a value in a Numpy array, one indexes the array with the desired offset. For example the syntax to access location zero of `x_train` is `x_train[0]`.\n",
    "Finish the next code block below to get the $i^{th}$ training example."
   ]
  },
  {
   "cell_type": "code",
   "execution_count": 9,
   "id": "d679278b",
   "metadata": {},
   "outputs": [
    {
     "name": "stdout",
     "output_type": "stream",
     "text": [
      "(x^(0), y^(0)) = (32.1, 151)\n"
     ]
    }
   ],
   "source": [
    "i = 0 # Change this to 1 to see (x^1, y^1)\n",
    "\n",
    "x_i = x_train[i]   # ith feature value  \n",
    "y_i = y_train[i]   # ith target value\n",
    "print(f\"(x^({i}), y^({i})) = ({x_i}, {y_i})\")"
   ]
  },
  {
   "cell_type": "markdown",
   "id": "b7ae1145",
   "metadata": {},
   "source": [
    "### Plotting the data"
   ]
  },
  {
   "cell_type": "markdown",
   "id": "166c9503",
   "metadata": {},
   "source": [
    "You can plot these two points using the `scatter()` function in the `matplotlib` library, as shown in the cell below. \n",
    "- The function arguments `marker` and `c` show the points as red crosses (the default is blue dots).\n",
    "\n",
    "You can use other functions in the `matplotlib` library to set the title and labels to display"
   ]
  },
  {
   "cell_type": "code",
   "execution_count": 10,
   "id": "370aa423",
   "metadata": {},
   "outputs": [
    {
     "data": {
      "image/png": "[encoded data removed]",
      "text/plain": [
       "<Figure size 640x480 with 1 Axes>"
      ]
     },
     "metadata": {},
     "output_type": "display_data"
    }
   ],
   "source": [
    "# Plot the data points\n",
    "plt.scatter(x_train, y_train, marker='x', c='r')\n",
    "# Set the title\n",
    "plt.title(\"Diabetes Progression Prediction\")\n",
    "# Set the y-axis label\n",
    "plt.ylabel('Diabetes Progression')\n",
    "# Set the x-axis label\n",
    "plt.xlabel('BMI')\n",
    "plt.show()"
   ]
  },
  {
   "cell_type": "markdown",
   "id": "3322d1d9",
   "metadata": {},
   "source": [
    "## Model function\n",
    "\n",
    "As described in lecture, the model function for linear regression (which is a function that maps from `x` to `y`) is represented as \n",
    "\n",
    "$$ f_{w,b}(x^{(i)}) = wx^{(i)} + b \\tag{1}$$\n",
    "\n",
    "The formula above is how you can represent straight lines - different values of $w$ and $b$ give you different straight lines on the plot. <br/>\n",
    "\n",
    "Let's try to get a better intuition for this through the code blocks below. Let's start with $w = 1$ and $b = 1$. \n",
    "\n",
    "**Note: You can come back to this cell to adjust the model's w and b parameters**"
   ]
  },
  {
   "cell_type": "code",
   "execution_count": 18,
   "id": "6e4557ce",
   "metadata": {},
   "outputs": [
    {
     "name": "stdout",
     "output_type": "stream",
     "text": [
      "w: 1\n",
      "b: 1\n"
     ]
    }
   ],
   "source": [
    "w = 1\n",
    "b = 1\n",
    "print(f\"w: {w}\")\n",
    "print(f\"b: {b}\")"
   ]
  },
  {
   "cell_type": "markdown",
   "id": "378cb243",
   "metadata": {},
   "source": [
    "Now, let's compute the value of $f_{w,b}(x^{(i)})$ for your two data points. You can explicitly write this out for each data point as - \n",
    "\n",
    "for $x^{(0)}$, `f_wb = w * x[0] + b`\n",
    "\n",
    "for $x^{(1)}$, `f_wb = w * x[1] + b`\n",
    "\n",
    "For a large number of data points, this can get unwieldy and repetitive. So instead, you can calculate the function output in a `for` loop in the `compute_model_output` function below.\n",
    "> **Note**: The argument description `(ndarray (m,))` describes a Numpy n-dimensional array of shape (m,). `(scalar)` describes an argument without dimensions, just a magnitude.  \n",
    "> **Note**: `np.zero(n)` will return a one-dimensional numpy array with $n$ entries   \n"
   ]
  },
  {
   "cell_type": "code",
   "execution_count": 19,
   "id": "89fea503",
   "metadata": {},
   "outputs": [],
   "source": [
    "def compute_model_output(x, w, b):\n",
    "    \"\"\"\n",
    "    Computes the prediction of a linear model\n",
    "    Args:\n",
    "      x (ndarray (m,)): Data, m examples \n",
    "      w,b (scalar)    : model parameters  \n",
    "    Returns\n",
    "      y (ndarray (m,)): target values\n",
    "    \"\"\"\n",
    "    m = x.shape[0]\n",
    "    f_wb = np.zeros(m)\n",
    "    # write a loop to compute f_wb\n",
    "    for i in range(0, m):\n",
    "        f_wb[i] = w * x[i] + b\n",
    "     \n",
    "    return f_wb"
   ]
  },
  {
   "cell_type": "markdown",
   "id": "04174be0",
   "metadata": {},
   "source": [
    "Now let's call the `compute_model_output` function and plot the output.."
   ]
  },
  {
   "cell_type": "code",
   "execution_count": 20,
   "id": "72e02da1",
   "metadata": {},
   "outputs": [
    {
     "data": {
      "image/png": "[encoded data removed]",
      "text/plain": [
       "<Figure size 640x480 with 1 Axes>"
      ]
     },
     "metadata": {},
     "output_type": "display_data"
    }
   ],
   "source": [
    "tmp_f_wb = compute_model_output(x_train, w, b)      # call the compute_model_output function\n",
    "\n",
    "# Plot our model prediction\n",
    "plt.plot(x_train, tmp_f_wb, c='b', label='Our Prediction')\n",
    "\n",
    "# Plot the data points\n",
    "plt.scatter(x_train, y_train, c='r', marker='x')\n",
    "\n",
    "# Set the title\n",
    "plt.title(\"Diabetes Progression Prediction\")\n",
    "\n",
    "# Set the y-axis label\n",
    "plt.ylabel('Diabetes Progression')\n",
    "\n",
    "# Set the x-axis label\n",
    "plt.xlabel('BMI')\n",
    "\n",
    "plt.legend()\n",
    "plt.show()"
   ]
  },
  {
   "cell_type": "markdown",
   "id": "f8c8b789",
   "metadata": {},
   "source": [
    "As you can see, setting $w = 1$ and $b = 1$ does *not* result in a line that fits our data. "
   ]
  },
  {
   "cell_type": "markdown",
   "id": "071bf2c3",
   "metadata": {},
   "source": [
    "### Prediction\n",
    "Try experimenting with different values of $w$ and $b$. What should the values be for a line that fits our data? Note that you can actually compute the theorectical values of $w$ and $b$ by hand given the two training examples. Put your best $w$ and $b$ in the prediction cell below.\n",
    "\n",
    "Now that we have a model, we can use it to make our original prediction. Let's predict the diabetes progression of a patient with BMI=30.5. Note: your prediction value should be around 140.\n"
   ]
  },
  {
   "cell_type": "code",
   "execution_count": 30,
   "id": "2052f36f",
   "metadata": {},
   "outputs": [
    {
     "name": "stdout",
     "output_type": "stream",
     "text": [
      "$139.4\n"
     ]
    }
   ],
   "source": [
    "w = 76/10.5                         # Your best w (7.238)               \n",
    "b = -32.1*76/10.5 + 151             # Your best b (-81.343)\n",
    "x_i = 30.5\n",
    "diabetes_progression = w*x_i + b  # prediction\n",
    "\n",
    "print(f\"${diabetes_progression:.1f}\")"
   ]
  },
  {
   "cell_type": "markdown",
   "id": "037e8f2a",
   "metadata": {},
   "source": [
    "# 2. Cost Function \n",
    "Here, cost is a measure of how well our model is predicting the diabetes progression of a patient. \n",
    "\n",
    "The equation for cost with one variable is:\n",
    "  $$J(w,b) = \\frac{1}{2m} \\sum\\limits_{i = 0}^{m-1} (f_{w,b}(x^{(i)}) - y^{(i)})^2 \\tag{2}$$ \n",
    " \n",
    "where \n",
    "  $$f_{w,b}(x^{(i)}) = wx^{(i)} + b \\tag{3}$$\n",
    "  \n",
    "- $f_{w,b}(x^{(i)})$ is our prediction for example $i$ using parameters $w,b$.  \n",
    "- $(f_{w,b}(x^{(i)}) -y^{(i)})^2$ is the squared difference between the target value and the prediction.   \n",
    "- These differences are summed over all the $m$ examples and divided by `2m` to produce the cost, $J(w,b)$.  \n",
    ">Note, in lecture summation ranges are typically from 1 to m, while code will be from 0 to m-1.\n"
   ]
  },
  {
   "cell_type": "markdown",
   "id": "54603997",
   "metadata": {},
   "source": [
    "The code below calculates cost by looping over each example. In each loop:\n",
    "- `f_wb`, a prediction is calculated\n",
    "- the difference between the target and the prediction is calculated and squared.\n",
    "- this is added to the total cost."
   ]
  },
  {
   "cell_type": "code",
   "execution_count": 34,
   "id": "f7837688",
   "metadata": {},
   "outputs": [],
   "source": [
    "def compute_cost(x, y, w, b): \n",
    "    \"\"\"\n",
    "    Computes the cost function for linear regression.\n",
    "    \n",
    "    Args:\n",
    "      x (ndarray (m,)): Data, m examples \n",
    "      y (ndarray (m,)): target values\n",
    "      w,b (scalar)    : model parameters  \n",
    "    \n",
    "    Returns\n",
    "        total_cost (float): The cost of using w,b as the parameters for linear regression\n",
    "               to fit the data points in x and y\n",
    "    \"\"\"\n",
    "    # number of training examples\n",
    "    m = x.shape[0] \n",
    "    cost_sum = 0 \n",
    "    \n",
    "    # write a loop to compute the summation of the squred difference for all training exmaples\n",
    "\n",
    "    for i in range (0, m):\n",
    "        y_i = w*x[i]+b\n",
    "        cost_sum += (y_i - y[i])**2\n",
    "    \n",
    "    total_cost = (1 / (2 * m)) * cost_sum  \n",
    "\n",
    "    return total_cost"
   ]
  },
  {
   "cell_type": "markdown",
   "id": "251e1ffd",
   "metadata": {},
   "source": [
    "Test your compute_cost function using x_train, y_train, and your best $w$ and $b$. Your total cost should be around 0."
   ]
  },
  {
   "cell_type": "code",
   "execution_count": 32,
   "id": "35952bbf",
   "metadata": {},
   "outputs": [
    {
     "name": "stdout",
     "output_type": "stream",
     "text": [
      "2\n",
      "32.1   151.00000000000003\n",
      "21.6   75.00000000000003\n",
      "Total cost is: 0.0\n"
     ]
    }
   ],
   "source": [
    "total_cost = compute_cost(x_train, y_train, w, b)   # call compute_cost function\n",
    "print(f\"Total cost is: {total_cost:.1f}\")"
   ]
  },
  {
   "cell_type": "markdown",
   "id": "0fb4ffcb",
   "metadata": {},
   "source": [
    "Redefine your x_train and y_train using a larger training set below. Test your compute_cost function again.\n",
    "\n",
    "| BMI                      | Diabetes progression |\n",
    "| -------------------------| ------------------------ |\n",
    "| 32.1                   | 151                      |\n",
    "| 21.6                   | 75                      |\n",
    "| 30.5                   | 141                      |\n",
    "| 22.6                   | 97                      |"
   ]
  },
  {
   "cell_type": "code",
   "execution_count": 35,
   "id": "54e3d28b",
   "metadata": {},
   "outputs": [
    {
     "name": "stdout",
     "output_type": "stream",
     "text": [
      "Total cost is: 27.6\n"
     ]
    }
   ],
   "source": [
    "# Redefining x_train and y_train\n",
    "x_train = np.array([32.1, 21.6, 30.5, 22.6])\n",
    "y_train = np.array([151, 75, 141, 97])\n",
    "\n",
    "total_cost = compute_cost(x_train, y_train, w, b)   # call compute_cost function\n",
    "print(f\"Total cost is: {total_cost:.1f}\")"
   ]
  }
 ],
 "metadata": {
  "kernelspec": {
   "display_name": "Python 3 (ipykernel)",
   "language": "python",
   "name": "python3"
  },
  "language_info": {
   "codemirror_mode": {
    "name": "ipython",
    "version": 3
   },
   "file_extension": ".py",
   "mimetype": "text/x-python",
   "name": "python",
   "nbconvert_exporter": "python",
   "pygments_lexer": "ipython3",
   "version": "3.11.4"
  },
  "toc-autonumbering": false
 },
 "nbformat": 4,
 "nbformat_minor": 5
}
