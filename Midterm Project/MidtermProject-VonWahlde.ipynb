{
 "cells": [
  {
   "cell_type": "markdown",
   "id": "87454420",
   "metadata": {},
   "source": [
    "# CPEN 346 - Midterm Project\n",
    "\n",
    "Author: Matthew VonWahlde  \n",
    "Date: 10/12/2023  \n",
    "</nbsp>  \n",
    "In this project, I will implement logistic regression with regularization and apply it to the Wisconsin Diagnostic Breast Cancer (WDBC) dataset."
   ]
  },
  {
   "cell_type": "markdown",
   "id": "c9af74ec",
   "metadata": {},
   "source": [
    "### Packages\n",
    "\n",
    "First, the necessary packages are imported into the project:  \n",
    "* Numpy - Implements parallel computing in arrays\n",
    "* Matplotlib - Convenient data plotting\n",
    "* Math - Useful mathematical functions"
   ]
  },
  {
   "cell_type": "code",
   "execution_count": 1,
   "id": "8bd32b02",
   "metadata": {},
   "outputs": [],
   "source": [
    "import numpy as np\n",
    "import matplotlib.pyplot as plt\n",
    "import math"
   ]
  },
  {
   "cell_type": "markdown",
   "id": "bb792c4a",
   "metadata": {},
   "source": [
    "### Load Data from WDBC\n",
    "\n",
    "Firstly, the dataset from WDBC needs to be loaded into this project, so it can be used for training and testing. This dataset contains 569 examples of breast cancer tumors (357 benign, 212 malignant) with each having an ID, diagnosis, and 30 real-valued input features."
   ]
  },
  {
   "cell_type": "code",
   "execution_count": 2,
   "id": "4a6b44e0",
   "metadata": {},
   "outputs": [],
   "source": [
    "def load_data(filename):\n",
    "    \"\"\"\n",
    "    Loads and formats data from the WDBC dataset\n",
    "    \n",
    "    Args:\n",
    "      filename : relative path for the file that holds the data\n",
    "      \n",
    "    Returns:\n",
    "      X : (ndarray Shape (m,n)) data, m examples by n features\n",
    "      y : (array_like Shape (m,)) outputs, 1 == malignant, 0 == benign\n",
    "    \"\"\"\n",
    "    # Load the data from the file\n",
    "    data = np.loadtxt(filename, dtype=str, delimiter=',')\n",
    "    \n",
    "    # Store the 30 features from each example into a 2D matrix and convert the type to float\n",
    "    X = data[:,2:32]\n",
    "    X = X.astype(float)\n",
    "    \n",
    "    # Store the outputs for each example and set each 'M' to a 1 and each 'B' to a 0\n",
    "    y_tmp = data[:,1]\n",
    "    numRows = y_tmp.shape[0]\n",
    "    y = np.zeros(numRows)\n",
    "    \n",
    "    for i in range(0, numRows):\n",
    "        # For each output, set to 1 if 'M' or 0 if 'B'\n",
    "        if y_tmp[i] == 'M':\n",
    "            y[i] = 1\n",
    "        else:\n",
    "            y[i] = 0\n",
    "    \n",
    "    # Return data and outputs\n",
    "    return X, y"
   ]
  },
  {
   "cell_type": "code",
   "execution_count": 3,
   "id": "1a6740a7",
   "metadata": {},
   "outputs": [],
   "source": [
    "# Load dataset\n",
    "X_train, y_train = load_data(\"./data/wdbc.data\")"
   ]
  },
  {
   "cell_type": "markdown",
   "id": "3ca226bd",
   "metadata": {},
   "source": [
    "### Z-Score Normalization\n",
    "\n",
    "To speed up the learning process, feature scaling will be implemented. In particular, Z-Score Normalization will be the method used to feature scale.  \n",
    "</nbsp>  \n",
    "Feature scaling is the act of altering the value of features, so they are all in a consistent range. If one particular feature is much larger than others, it will dominate when computing the output. Keeping a consistent scale among features will allow each feature to have significance when computing the prediction.  \n",
    "</nbsp>  \n",
    "Z-score normalization is a method of feature scaling that modifies each feature based on its mean and standard deviation.\n",
    "$$ x_{j,scaled} = \\frac{x_j - M_j}{\\sigma_j}$$\n",
    "This equation represents the equation to calculate each scaled feature. Note the M denotes the mean, $\\sigma$ denotes standard deviation, and j denotes the $j^{th}$ feature."
   ]
  },
  {
   "cell_type": "code",
   "execution_count": 4,
   "id": "eaaf7c09",
   "metadata": {},
   "outputs": [],
   "source": [
    "def calc_mean_stddev(data):\n",
    "    \"\"\"\n",
    "    Calculates the mean and standard deviation for each feature in the data set\n",
    "    \n",
    "    Args:\n",
    "      data : (ndarray Shape (m,n)) data, m examples by n features\n",
    "      \n",
    "    Returns:\n",
    "      means     : (ndarray) mean of each feature\n",
    "      deviations: (ndarray) standard deviation of each feature\n",
    "    \"\"\"\n",
    "    # Rows and columns of the dataset\n",
    "    rows, cols = data.shape\n",
    "    \n",
    "    # Preallocate arrays for the mean and standard deviations\n",
    "    means = np.zeros(cols)\n",
    "    deviations = np.zeros(cols)\n",
    "    \n",
    "    # Calculate each mean and start deviation\n",
    "    for i in range(0, cols):\n",
    "        means[i] = np.mean(data[:,i])\n",
    "        deviations[i] = np.std(data[:,i])\n",
    "    \n",
    "    return means, deviations \n",
    "    "
   ]
  },
  {
   "cell_type": "code",
   "execution_count": 5,
   "id": "eb9e28ef",
   "metadata": {},
   "outputs": [],
   "source": [
    "def Z_score_norm(data):\n",
    "    \"\"\"\n",
    "    Feature scales the dataset using z-score normalization.\n",
    "    \n",
    "    Args:\n",
    "      data : (ndarray Shape (m,n)) data, m examples by n features\n",
    "      \n",
    "    Returns:\n",
    "      data : (ndarray Shape (m,n)) data, m examples by n features (z-score normalized)\n",
    "      dev\n",
    "    \"\"\"\n",
    "    # Calculate the mean and stardard deviation\n",
    "    mean, std_dev = calc_mean_stddev(X_train)\n",
    "    \n",
    "    rows, cols = data.shape\n",
    "\n",
    "    # For each feature in the dataset, perform z-score normalization\n",
    "    for i in range(0, cols):\n",
    "        data[:, i] = (data[:, i] - mean[i]) / std_dev[i]\n",
    "        \n",
    "    return data\n",
    "    "
   ]
  },
  {
   "cell_type": "code",
   "execution_count": 6,
   "id": "c7810b6e",
   "metadata": {},
   "outputs": [],
   "source": [
    "# Use z-score normalization to feature scale\n",
    "X_train = Z_score_norm(X_train)"
   ]
  },
  {
   "cell_type": "markdown",
   "id": "b1401f32",
   "metadata": {},
   "source": [
    "### Sigmoid Function\n",
    "\n",
    "In logistic regression, the sigmoid function is used to \"squish\" the input data into a function that is between 0 and 1. When the input value heads toward negative infinity, the sigmoid function heads toward 0. When the input value heads toward positive infinity, the sigmoid function heads toward 1.  \n",
    "</nbsp>  \n",
    "$$ g(z) = \\frac{1}{1 + e^{-z}} \\quad 0 < g(z) < 1 $$  \n",
    "</nbsp>  \n",
    "The term z refers to the expression, $ \\vec{w} \\cdot \\vec{x} + b $, used in linear regression.  "
   ]
  },
  {
   "cell_type": "code",
   "execution_count": 7,
   "id": "e5a84445",
   "metadata": {},
   "outputs": [],
   "source": [
    "def sigmoid(z):\n",
    "    \"\"\"\n",
    "    Compute the sigmoid of z\n",
    "\n",
    "    Args:\n",
    "        z (ndarray): A scalar, numpy array of any size.\n",
    "\n",
    "    Returns:\n",
    "        g (ndarray): sigmoid(z), with the same shape as z\n",
    "         \n",
    "    \"\"\"\n",
    "    # Calculate the sigmoid output for each scalar input\n",
    "    g = 1 / (1 + np.exp(-1 * z))  \n",
    "    \n",
    "    return g"
   ]
  },
  {
   "cell_type": "markdown",
   "id": "c36270ab",
   "metadata": {},
   "source": [
    "### Cost Function for Logistic Regression with Regularization\n",
    "\n",
    "The cost function for logistic regression with regularization is similar to logistic expression, but with an extra term at the end.  \n",
    "</nbsp>\n",
    "$$ J(\\vec{w}, b) = \\frac{-1}{m} \\sum_{i=1}^{m} [ y^{(i)}log(f_{(\\vec{w}, b)}(\\vec{x}^{(i)})) + (1 - y^{(i)})log(f_{(\\vec{w}, b)}(\\vec{x}^{(i)})) ] + \\frac{\\lambda}{2m}\\sum_{j=1}^{n}w_j^2 $$\n",
    "$$ f_{\\vec{w},b}(\\vec{x}) = g(z) $$\n",
    "</nbsp>  \n",
    "This extra term is the regularization term, with the constant $\\lambda$ representing the regularization parameter. The addition of the regularization term helps balance two goals: fitting the data and keeping $w_j$ small. When $\\lambda$ is large, $w_j$ must be small to minimize cost."
   ]
  },
  {
   "cell_type": "code",
   "execution_count": 8,
   "id": "f165844c",
   "metadata": {},
   "outputs": [],
   "source": [
    "def compute_cost(X, y, w, b, lambda_):\n",
    "    \"\"\"\n",
    "    Computes the cost over all examples\n",
    "    \n",
    "    Args:\n",
    "      X : (ndarray Shape (m,n)) data, m examples by n features\n",
    "      y : (array_like Shape (m,)) target value \n",
    "      w : (array_like Shape (n,)) Values of parameters of the model      \n",
    "      b : scalar Values of bias parameter of the model\n",
    "      lambda_: regularization constant\n",
    "      \n",
    "    Returns:\n",
    "      total_cost: (scalar)         cost \n",
    "    \"\"\"\n",
    "    # Get shape and set initial cost to 0\n",
    "    m, n = X.shape\n",
    "    total_cost = 0\n",
    "    \n",
    "    # For each example in the dataset\n",
    "    for i in range(0,m):\n",
    "        # Compute the output prediction\n",
    "        z = np.dot(w, X[i,:]) + b\n",
    "        g = sigmoid(z)\n",
    "        # Used to prevent floating point error from giving log function an input of 0\n",
    "        if (1-g) <= 0.00000000001:\n",
    "            g -= 0.00000000001\n",
    "        # Add cost for each example\n",
    "        total_cost += -1*y[i]*math.log(g) - (1-y[i])*math.log(1-g)\n",
    "    \n",
    "    total_cost /= m\n",
    "    \n",
    "    # Add regularization term\n",
    "    total_cost += ( lambda_ / (2*m) ) * np.dot(w, w)\n",
    "\n",
    "    return total_cost"
   ]
  },
  {
   "cell_type": "markdown",
   "id": "35e7e522",
   "metadata": {},
   "source": [
    "### Computing the gradient\n",
    "\n",
    "Adding the regularization term adds one term to the end of the gradient function when calculating the derivative with respect to $w_j$, but the derivative with respect to b remains the same.  \n",
    "</nbsp>  \n",
    "$$ \\frac {\\partial J(\\vec{w},b)}{\\partial w_j} = \\frac{1}{m} \\sum_{i=1}^{m} [(f_{\\vec{w},b}(\\vec{x}^{(i)}) - y^{(i)})x_j^{(i)}] + \\frac{\\lambda}{m}w_j $$\n",
    "$$ \\frac {\\partial J(\\vec{w},b)}{\\partial b} = \\frac{1}{m} \\sum_{i=1}^{m} [(f_{\\vec{w},b}(\\vec{x}^{(i)}) - y^{(i)})] $$  \n",
    "$$ f_{\\vec{w},b}(\\vec{x}) = g(z) $$"
   ]
  },
  {
   "cell_type": "code",
   "execution_count": 9,
   "id": "ba6fd5bb",
   "metadata": {},
   "outputs": [],
   "source": [
    "def compute_gradient(X, y, w, b, lambda_): \n",
    "    \"\"\"\n",
    "    Computes the gradient for logistic regression \n",
    " \n",
    "    Args:\n",
    "      X : (ndarray Shape (m,n)) variable such as house size \n",
    "      y : (array_like Shape (m,1)) actual value \n",
    "      w : (array_like Shape (n,1)) values of parameters of the model      \n",
    "      b : (scalar)                 value of parameter of the model \n",
    "      lambda_: regularization constant\n",
    "      \n",
    "    Returns\n",
    "      dj_dw: (array_like Shape (n,1)) The gradient of the cost w.r.t. the parameters w. \n",
    "      dj_db: (scalar)                The gradient of the cost w.r.t. the parameter b. \n",
    "    \"\"\"\n",
    "    # Get shape and preallocate initial derivatives\n",
    "    m, n = X.shape\n",
    "    dj_dw = np.zeros(w.shape)\n",
    "    dj_db = 0.\n",
    "\n",
    "    # For each example, compute the change in the derivative for w and b\n",
    "    for i in range(0, m):\n",
    "        z = np.dot(w, X[i,:]) + b\n",
    "        g = sigmoid(z)\n",
    "\n",
    "        dj_dw += np.dot(g - y[i], X[i,:])\n",
    "        dj_db += g - y[i]\n",
    "       \n",
    "    dj_dw /= m\n",
    "    dj_db /= m\n",
    "    \n",
    "    # Add regularization term\n",
    "    dj_dw += (lambda_ / m) * w\n",
    "        \n",
    "    return dj_db, dj_dw"
   ]
  },
  {
   "cell_type": "markdown",
   "id": "4ffe1124",
   "metadata": {},
   "source": [
    "### Gradient Descent\n",
    "\n",
    "The formula for gradient descent for logistic regression is as follows. Note that you should not update $w_j$ until b has been updated as to not use the new values of $w_j$ when computing b's gradient.  \n",
    "</nbsp>  \n",
    "repeat until convergence (or a set number of iterations) {  \n",
    "$ \\quad w_j = w_j - \\alpha \\frac{\\partial J(\\vec{w}, b)}{\\partial w_j} $  \n",
    "$ \\quad b = b - \\alpha \\frac{\\partial J(\\vec{w}, b)}{\\partial b} $  \n",
    "}"
   ]
  },
  {
   "cell_type": "code",
   "execution_count": 10,
   "id": "00f121c3",
   "metadata": {},
   "outputs": [],
   "source": [
    "def gradient_descent(X, y, w_in, b_in, cost_function, gradient_function, alpha, num_iters, lambda_): \n",
    "    \"\"\"\n",
    "    Performs batch gradient descent to learn theta. Updates theta by taking \n",
    "    num_iters gradient steps with learning rate alpha\n",
    "    \n",
    "    Args:\n",
    "      X :    (array_like Shape (m, n)\n",
    "      y :    (array_like Shape (m,))\n",
    "      w_in : (array_like Shape (n,))  Initial values of parameters of the model\n",
    "      b_in : (scalar)                 Initial value of parameter of the model\n",
    "      cost_function:                  function to compute cost\n",
    "      alpha : (float)                 Learning rate\n",
    "      num_iters : (int)               number of iterations to run gradient descent\n",
    "      lambda_ (scalar, float)         regularization constant\n",
    "      \n",
    "    Returns:\n",
    "      w : (array_like Shape (n,)) Updated values of parameters of the model after\n",
    "          running gradient descent\n",
    "      b : (scalar)                Updated value of parameter of the model after\n",
    "          running gradient descent\n",
    "    \"\"\"\n",
    "    \n",
    "    # number of training examples\n",
    "    m = len(X)\n",
    "    \n",
    "    # An array to store cost J and w's at each iteration primarily for graphing later\n",
    "    J_history = []\n",
    "    w_history = []\n",
    "    \n",
    "    for i in range(num_iters):\n",
    "\n",
    "        # Calculate the gradient and update the parameters\n",
    "        dj_db, dj_dw = compute_gradient(X, y, w_in, b_in, lambda_)   \n",
    "\n",
    "        # Update Parameters using w, b, alpha and gradient\n",
    "        w_in = w_in - alpha * dj_dw               \n",
    "        b_in = b_in - alpha * dj_db              \n",
    "       \n",
    "        # Save cost J at each iteration\n",
    "        if i<100000:      # prevent resource exhaustion \n",
    "            cost =  cost_function(X, y, w_in, b_in, lambda_)\n",
    "            J_history.append(cost)\n",
    "\n",
    "        # Print cost every at intervals 10 times or as many iterations if < 10\n",
    "        if i% math.ceil(num_iters/10) == 0 or i == (num_iters-1):\n",
    "            w_history.append(w_in)\n",
    "            print(f\"Iteration {i:4}: Cost {float(J_history[-1]):8.2f}   \")\n",
    "        \n",
    "    return w_in, b_in, J_history, w_history #return w and J,w history for graphing"
   ]
  },
  {
   "cell_type": "markdown",
   "id": "af6be01d",
   "metadata": {},
   "source": [
    "### Testing\n",
    "\n",
    "When testing out the logistic regression with regularization, you can alter the number of iterations, alpha, lambda, the random seed, and the initial b to see what provides the highest accuracy. In the future, it would be beneficial to use some data for training and some data for testing. This way, you can tell when the training data is overfit."
   ]
  },
  {
   "cell_type": "code",
   "execution_count": 11,
   "id": "09187f18",
   "metadata": {},
   "outputs": [
    {
     "name": "stdout",
     "output_type": "stream",
     "text": [
      "Iteration    0: Cost     2.66   \n",
      "Iteration 1000: Cost     0.05   \n",
      "Iteration 2000: Cost     0.05   \n",
      "Iteration 3000: Cost     0.05   \n",
      "Iteration 4000: Cost     0.05   \n",
      "Iteration 5000: Cost     0.05   \n",
      "Iteration 6000: Cost     0.05   \n",
      "Iteration 7000: Cost     0.05   \n",
      "Iteration 8000: Cost     0.05   \n",
      "Iteration 9000: Cost     0.05   \n",
      "Iteration 9999: Cost     0.05   \n"
     ]
    }
   ],
   "source": [
    "# Set random seed, inital w, and initial b\n",
    "np.random.seed(20)\n",
    "initial_w = 0.01 * (np.random.rand(30).reshape(-1) - 0.5)\n",
    "initial_b = 8\n",
    "\n",
    "# Some gradient descent settings\n",
    "iterations = 10000\n",
    "alpha = 1\n",
    "lambda_ = .1\n",
    "\n",
    "# Perform gradient descent\n",
    "w,b, J_history,_ = gradient_descent(X_train, y_train, initial_w, initial_b, \n",
    "                                   compute_cost, compute_gradient, alpha, iterations, lambda_)"
   ]
  },
  {
   "cell_type": "code",
   "execution_count": 12,
   "id": "7ea6f931",
   "metadata": {},
   "outputs": [],
   "source": [
    "def plot_cost_versus_iteration(J_hist):\n",
    "    \"\"\"\n",
    "    Creates a plot of the cost at each iteration of gradient descent\n",
    "    \n",
    "    Args:\n",
    "      J_hist : (ndarray) array of costs at each iteration\n",
    "      \n",
    "    Returns:\n",
    "      None\n",
    "    \"\"\"\n",
    "    # Plot the cost versus iteration\n",
    "    plt.plot(J_hist, c='b',label='Cost')\n",
    "    plt.title(\"Cost vs. iteration\"); \n",
    "    plt.ylabel('Cost')             ;  \n",
    "    plt.xlabel('iteration step')   ;  \n",
    "    plt.show()"
   ]
  },
  {
   "cell_type": "code",
   "execution_count": 13,
   "id": "e7b32055",
   "metadata": {},
   "outputs": [
    {
     "data": {
      "image/png": "[encoded data removed]",
      "text/plain": [
       "<Figure size 640x480 with 1 Axes>"
      ]
     },
     "metadata": {},
     "output_type": "display_data"
    }
   ],
   "source": [
    "# Plot cost versus iteration\n",
    "plot_cost_versus_iteration(J_history)"
   ]
  },
  {
   "cell_type": "markdown",
   "id": "9778e535",
   "metadata": {},
   "source": [
    "### Accuracy\n",
    "\n",
    "In the following section, the accuracy of the model is tested, comparing the predicted output with the real diagnosis. The accuracy should be around 99.1%."
   ]
  },
  {
   "cell_type": "code",
   "execution_count": 14,
   "id": "682e4967",
   "metadata": {},
   "outputs": [],
   "source": [
    "def predict(X, w, b): \n",
    "    \"\"\"\n",
    "    Predict whether the label is 0 or 1 using learned logistic\n",
    "    regression parameters w\n",
    "    \n",
    "    Args:\n",
    "    X : (ndarray Shape (m, n))\n",
    "    w : (array_like Shape (n,))      Parameters of the model\n",
    "    b : (scalar, float)              Parameter of the model\n",
    "\n",
    "    Returns:\n",
    "    p: (ndarray (m,1))\n",
    "        The predictions for X using a threshold at 0.5\n",
    "    \"\"\"\n",
    "    # number of training examples\n",
    "    m, n = X.shape   \n",
    "    p = np.zeros(m)\n",
    "   \n",
    "    # For each example, give a prediction\n",
    "    for i in range(0, m):\n",
    "        z = np.dot(w, X[i,:]) + b\n",
    "        g = sigmoid(z)\n",
    "    \n",
    "        p[i] = 1 if g >= 0.5 else 0\n",
    "        \n",
    "    return p"
   ]
  },
  {
   "cell_type": "code",
   "execution_count": 15,
   "id": "60fe907d",
   "metadata": {},
   "outputs": [
    {
     "name": "stdout",
     "output_type": "stream",
     "text": [
      "Training Accuracy: 99.121265\n"
     ]
    }
   ],
   "source": [
    "#Compute accuracy on our training set\n",
    "p = predict(X_train, w,b)\n",
    "print('Training Accuracy: %f'%(np.mean(p == y_train) * 100))"
   ]
  }
 ],
 "metadata": {
  "kernelspec": {
   "display_name": "Python 3 (ipykernel)",
   "language": "python",
   "name": "python3"
  },
  "language_info": {
   "codemirror_mode": {
    "name": "ipython",
    "version": 3
   },
   "file_extension": ".py",
   "mimetype": "text/x-python",
   "name": "python",
   "nbconvert_exporter": "python",
   "pygments_lexer": "ipython3",
   "version": "3.11.4"
  }
 },
 "nbformat": 4,
 "nbformat_minor": 5
}
